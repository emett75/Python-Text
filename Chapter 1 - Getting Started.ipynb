{
 "cells": [
  {
   "cell_type": "markdown",
   "metadata": {},
   "source": [
    "Chapter 1 Practice"
   ]
  },
  {
   "cell_type": "code",
   "execution_count": 1,
   "metadata": {},
   "outputs": [
    {
     "name": "stdout",
     "output_type": "stream",
     "text": [
      "enter a temperature in Celsius:20\n",
      "in Farenheit, that is 68.0\n"
     ]
    }
   ],
   "source": [
    "temp = eval(input('enter a temperature in Celsius:'))\n",
    "print(\"in Farenheit, that is\", 9/5*temp+32)"
   ]
  },
  {
   "cell_type": "code",
   "execution_count": 2,
   "metadata": {},
   "outputs": [
    {
     "name": "stdout",
     "output_type": "stream",
     "text": [
      "Enter the first number:8\n",
      "Enter the second number:10\n",
      "The average of the numbers you entered is 9.0\n"
     ]
    }
   ],
   "source": [
    "num1 = eval(input('Enter the first number:'))\n",
    "num2 = eval(input('Enter the second number:'))\n",
    "print('The average of the numbers you entered is', (num1 + num2)/2)"
   ]
  },
  {
   "cell_type": "code",
   "execution_count": 5,
   "metadata": {},
   "outputs": [
    {
     "name": "stdout",
     "output_type": "stream",
     "text": [
      "Enter your name: Mike\n",
      "Hello  Mike\n"
     ]
    }
   ],
   "source": [
    "#input function\n",
    "name = input('Enter your name: ')\n",
    "print('Hello ', name)"
   ]
  },
  {
   "cell_type": "code",
   "execution_count": 6,
   "metadata": {},
   "outputs": [
    {
     "name": "stdout",
     "output_type": "stream",
     "text": [
      "Hi there\n"
     ]
    }
   ],
   "source": [
    "print('Hi there')"
   ]
  },
  {
   "cell_type": "code",
   "execution_count": 7,
   "metadata": {},
   "outputs": [
    {
     "name": "stdout",
     "output_type": "stream",
     "text": [
      "3+4\n"
     ]
    }
   ],
   "source": [
    "print('3+4')"
   ]
  },
  {
   "cell_type": "code",
   "execution_count": 8,
   "metadata": {},
   "outputs": [
    {
     "name": "stdout",
     "output_type": "stream",
     "text": [
      "7\n"
     ]
    }
   ],
   "source": [
    "print(3+4)"
   ]
  },
  {
   "cell_type": "code",
   "execution_count": 9,
   "metadata": {},
   "outputs": [
    {
     "name": "stdout",
     "output_type": "stream",
     "text": [
      "The value of 3+4 is 7\n",
      "A 1 XYZ 2\n"
     ]
    }
   ],
   "source": [
    "print('The value of 3+4 is', 3+4)\n",
    "print('A', 1, 'XYZ', 2)"
   ]
  },
  {
   "cell_type": "code",
   "execution_count": 10,
   "metadata": {},
   "outputs": [
    {
     "name": "stdout",
     "output_type": "stream",
     "text": [
      "The value of 3+4 is 7 .\n",
      "The value of 3+4 is7.\n"
     ]
    }
   ],
   "source": [
    "#SEP function\n",
    "print('The value of 3+4 is', 3+4, '.')\n",
    "print('The value of 3+4 is', 3+4, '.', sep='')"
   ]
  },
  {
   "cell_type": "code",
   "execution_count": 11,
   "metadata": {},
   "outputs": [
    {
     "name": "stdout",
     "output_type": "stream",
     "text": [
      "On the first line\n",
      "On the second line\n"
     ]
    }
   ],
   "source": [
    "#end funtion:\n",
    "print('On the first line')\n",
    "print('On the second line')"
   ]
  },
  {
   "cell_type": "code",
   "execution_count": 13,
   "metadata": {},
   "outputs": [
    {
     "name": "stdout",
     "output_type": "stream",
     "text": [
      "On the first lineOn the sencond line\n"
     ]
    }
   ],
   "source": [
    "print('On the first line', end='')\n",
    "print('On the sencond line')\n",
    "#this is accomplished better with a single print, but there are uses that i will learn later"
   ]
  },
  {
   "cell_type": "code",
   "execution_count": 14,
   "metadata": {},
   "outputs": [
    {
     "name": "stdout",
     "output_type": "stream",
     "text": [
      "Enter a temperature is Celsius: -40\n",
      "In Fahrenheit, that is -40.0\n"
     ]
    }
   ],
   "source": [
    "temp = eval(input('Enter a temperature is Celsius: '))\n",
    "print('In Fahrenheit, that is', 9/5*temp+32)"
   ]
  },
  {
   "cell_type": "code",
   "execution_count": 17,
   "metadata": {},
   "outputs": [
    {
     "name": "stdout",
     "output_type": "stream",
     "text": [
      "Enter a temperature in Celsius: 0\n",
      "In Fahrenhiet that is 32.0\n",
      "That temperature is below the freezing point.\n"
     ]
    }
   ],
   "source": [
    "temp = eval(input('Enter a temperature in Celsius: '))\n",
    "f_temp = 9/5*temp+32\n",
    "print('In Fahrenhiet that is', f_temp)\n",
    "if f_temp >= 212:\n",
    "    print('That temperature is above the boiling point.')\n",
    "if f_temp <= 32:\n",
    "    print('That temperature is below the freezing point.')\n",
    "    "
   ]
  },
  {
   "cell_type": "code",
   "execution_count": 25,
   "metadata": {},
   "outputs": [],
   "source": [
    "x=3\n",
    "y=4\n",
    "z=x+y\n",
    "z=z+1\n",
    "x=y\n",
    "y=5"
   ]
  },
  {
   "cell_type": "markdown",
   "metadata": {},
   "source": [
    "Chapter 1 Exercises"
   ]
  },
  {
   "cell_type": "code",
   "execution_count": 28,
   "metadata": {},
   "outputs": [
    {
     "name": "stdout",
     "output_type": "stream",
     "text": [
      "***************\n",
      "***************\n",
      "***************\n"
     ]
    }
   ],
   "source": [
    "print('***************')\n",
    "print('***************')\n",
    "print('***************')"
   ]
  },
  {
   "cell_type": "code",
   "execution_count": 31,
   "metadata": {},
   "outputs": [
    {
     "name": "stdout",
     "output_type": "stream",
     "text": [
      "0.1017249004865104\n"
     ]
    }
   ],
   "source": [
    "number = ((512-282)/(47*48+5))\n",
    "print(number)"
   ]
  },
  {
   "cell_type": "code",
   "execution_count": 42,
   "metadata": {},
   "outputs": [
    {
     "name": "stdout",
     "output_type": "stream",
     "text": [
      "Enter a number: 75\n",
      "The square root of 75 is 8.660254037844387\n"
     ]
    }
   ],
   "source": [
    "import math\n",
    "\n",
    "num = eval(input('Enter a number: ' ))\n",
    "print('The square root of', num, 'is', math.sqrt(num))"
   ]
  },
  {
   "cell_type": "code",
   "execution_count": 56,
   "metadata": {},
   "outputs": [
    {
     "name": "stdout",
     "output_type": "stream",
     "text": [
      "Enter a number: 7\n",
      "7 14 21 28 35\n"
     ]
    }
   ],
   "source": [
    "x = eval(input('Enter a number: '))\n",
    "print((x), (2*x), (3*x), (4*x), (5*x))"
   ]
  },
  {
   "cell_type": "code",
   "execution_count": 58,
   "metadata": {},
   "outputs": [
    {
     "name": "stdout",
     "output_type": "stream",
     "text": [
      "Weight in kilos 80\n",
      "Weight in pounds 176.0\n"
     ]
    }
   ],
   "source": [
    "lbs = eval(input('Weight in kilos '))\n",
    "print('Weight in pounds', lbs*2.2)"
   ]
  },
  {
   "cell_type": "code",
   "execution_count": 62,
   "metadata": {},
   "outputs": [
    {
     "name": "stdout",
     "output_type": "stream",
     "text": [
      "First number987\n",
      "Second number1005\n",
      "Third number4\n",
      "('Total equals ', 1996)\n",
      "('Average equals ', 665.3333333333334)\n"
     ]
    }
   ],
   "source": [
    "num1 = eval(input('First number'))\n",
    "num2 = eval(input('Second number'))\n",
    "num3 = eval(input('Third number'))\n",
    "total = 'Total equals ', num1+num2+num3\n",
    "average = 'Average equals ', (num1+num2+num3)/3\n",
    "print(total)\n",
    "print(average)"
   ]
  },
  {
   "cell_type": "code",
   "execution_count": 82,
   "metadata": {},
   "outputs": [
    {
     "name": "stdout",
     "output_type": "stream",
     "text": [
      "Price of meal 79\n",
      "Tip percent .27\n",
      "21.330000000000002\n",
      "100.33\n"
     ]
    }
   ],
   "source": [
    "Price = eval(input('Price of meal '))\n",
    "df2 = eval(input('Tip percent '))\n",
    "Tip = Price*df2\n",
    "totalprice = Price+Tip\n",
    "print(Tip)\n",
    "print(totalprice)\n",
    "\n",
    "#Would not work using strings as titles - not sure why"
   ]
  },
  {
   "cell_type": "code",
   "execution_count": null,
   "metadata": {},
   "outputs": [],
   "source": []
  }
 ],
 "metadata": {
  "kernelspec": {
   "display_name": "Python 3",
   "language": "python",
   "name": "python3"
  },
  "language_info": {
   "codemirror_mode": {
    "name": "ipython",
    "version": 3
   },
   "file_extension": ".py",
   "mimetype": "text/x-python",
   "name": "python",
   "nbconvert_exporter": "python",
   "pygments_lexer": "ipython3",
   "version": "3.6.5"
  }
 },
 "nbformat": 4,
 "nbformat_minor": 2
}
